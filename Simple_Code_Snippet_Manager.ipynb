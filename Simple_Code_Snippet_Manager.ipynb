{
  "nbformat": 4,
  "nbformat_minor": 0,
  "metadata": {
    "colab": {
      "provenance": [],
      "toc_visible": true,
      "authorship_tag": "ABX9TyMqYz/bnZm3kO+eEhyJMrcb",
      "include_colab_link": true
    },
    "kernelspec": {
      "name": "python3",
      "display_name": "Python 3"
    },
    "language_info": {
      "name": "python"
    }
  },
  "cells": [
    {
      "cell_type": "markdown",
      "metadata": {
        "id": "view-in-github",
        "colab_type": "text"
      },
      "source": [
        "<a href=\"https://colab.research.google.com/github/linagalvan/linagalvan.github.io/blob/main/Simple_Code_Snippet_Manager.ipynb\" target=\"_parent\"><img src=\"https://colab.research.google.com/assets/colab-badge.svg\" alt=\"Open In Colab\"/></a>"
      ]
    },
    {
      "cell_type": "markdown",
      "source": [],
      "metadata": {
        "id": "VFQ_WtyLdbbT"
      }
    },
    {
      "cell_type": "code",
      "execution_count": null,
      "metadata": {
        "colab": {
          "base_uri": "https://localhost:8080/"
        },
        "id": "GGKM-cX3cD6S",
        "outputId": "8c1a3e8f-f37d-49e4-8d09-af0e49ed33ff"
      },
      "outputs": [
        {
          "output_type": "stream",
          "name": "stdout",
          "text": [
            "Code Snippet Manager\n",
            "1. Add Snippet\n",
            "2. View Snippets\n",
            "3. Search Snippets\n",
            "4. Quit\n"
          ]
        }
      ],
      "source": [
        "# Initialize an empty list to store code snippets\n",
        "snippets = []\n",
        "\n",
        "def add_snippet(title, code):\n",
        "    snippets.append({\"title\": title, \"code\": code})\n",
        "\n",
        "def view_snippets():\n",
        "    for idx, snippet in enumerate(snippets, start=1):\n",
        "        print(f\"{idx}. {snippet['title']}:\\n{snippet['code']}\\n\")\n",
        "\n",
        "def search_snippets(keyword):\n",
        "    matching_snippets = [snippet for snippet in snippets if keyword in snippet['title'] or keyword in snippet['code']]\n",
        "    return matching_snippets\n",
        "\n",
        "# Main loop\n",
        "while True:\n",
        "    print(\"Code Snippet Manager\")\n",
        "    print(\"1. Add Snippet\")\n",
        "    print(\"2. View Snippets\")\n",
        "    print(\"3. Search Snippets\")\n",
        "    print(\"4. Quit\")\n",
        "\n",
        "    choice = input(\"Enter your choice: \")\n",
        "\n",
        "    if choice == '1':\n",
        "        title = input(\"Enter snippet title: \")\n",
        "        code = input(\"Enter code snippet:\\n\")\n",
        "        add_snippet(title, code)\n",
        "    elif choice == '2':\n",
        "        view_snippets()\n",
        "    elif choice == '3':\n",
        "        keyword = input(\"Enter keyword to search for: \")\n",
        "        matching_snippets = search_snippets(keyword)\n",
        "        if matching_snippets:\n",
        "            print(\"Matching Snippets:\")\n",
        "            for snippet in matching_snippets:\n",
        "                print(f\"{snippet['title']}: {snippet['code']}\")\n",
        "        else:\n",
        "            print(\"No matching snippets found.\")\n",
        "    elif choice == '4':\n",
        "        break\n",
        "    else:\n",
        "        print(\"Invalid choice. Please try again.\")\n"
      ]
    }
  ]
}