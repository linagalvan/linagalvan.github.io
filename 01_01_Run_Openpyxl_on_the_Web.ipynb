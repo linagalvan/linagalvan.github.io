{
  "nbformat": 4,
  "nbformat_minor": 0,
  "metadata": {
    "colab": {
      "provenance": []
    },
    "kernelspec": {
      "name": "python3",
      "display_name": "Python 3"
    }
  },
  "cells": [
    {
      "cell_type": "markdown",
      "source": [
        "####Make a WB and Save a WB#"
      ],
      "metadata": {
        "id": "wUs64vfHWh6e"
      }
    },
    {
      "cell_type": "code",
      "source": [
        "from openpyxl import Workbook\n",
        "from openpyxl.utils import get_column_letter\n",
        "\n",
        "from google.colab import drive\n",
        "drive.mount(\"/content/gdrive\")\n",
        "wb = Workbook()\n",
        "destination_filename = 'new_workbook.xlsx'\n",
        "ws = wb.active\n",
        "ws.title = \"New Active Workbook\"\n",
        "\n",
        "for row in range(1,10) :\n",
        "  ws.append(range(100))\n",
        "\n",
        "wssheet = wb.create_sheet(title=\"Number Two\")\n",
        "\n",
        "wssheet['A5'] = 'some value here'\n",
        "\n",
        "wssheet['A5'].value\n",
        "wssheet['A5']\n",
        "ws['C3'].value\n",
        "\n",
        "\n",
        "another_worksheet = wb.create_sheet(title = \"Third Sheet\")\n",
        "for row in range(1,5):\n",
        "  for col in range(2, 10):\n",
        "     _ =another_worksheet.cell(column=col,\n",
        "                              row=row, value=\"{0}\".format(get_column_letter(col)))\n",
        "\n",
        "\n",
        "print(another_worksheet['B1'].value)\n",
        "\n",
        "wb.save(\"/content/gdrive/My Drive/\"\n",
        "       + destination_filename)"
      ],
      "metadata": {
        "colab": {
          "base_uri": "https://localhost:8080/"
        },
        "id": "wEsCE52EO4EX",
        "outputId": "f8bbb5a0-071e-4269-8d19-85b7a6fe0546"
      },
      "execution_count": null,
      "outputs": [
        {
          "output_type": "stream",
          "name": "stdout",
          "text": [
            "Mounted at /content/gdrive\n",
            "B\n"
          ]
        }
      ]
    },
    {
      "cell_type": "markdown",
      "source": [
        "**Read a WB**"
      ],
      "metadata": {
        "id": "72pKn503WY-v"
      }
    },
    {
      "cell_type": "code",
      "source": [
        "from openpyxl import load_workbook\n",
        "from google.colab import drive\n",
        "drive.mount('/content/gdrive')\n",
        "\n",
        "wb = load_workbook(filename = '/content/gdrive/My Drive/'\n",
        "                               + 'new_workbook.xlsx')"
      ],
      "metadata": {
        "colab": {
          "base_uri": "https://localhost:8080/"
        },
        "id": "lQfyzngyTzOo",
        "outputId": "4c65e974-a944-4bfd-c573-9ca1a00031d4"
      },
      "execution_count": null,
      "outputs": [
        {
          "output_type": "stream",
          "name": "stdout",
          "text": [
            "Drive already mounted at /content/gdrive; to attempt to forcibly remount, call drive.mount(\"/content/gdrive\", force_remount=True).\n"
          ]
        }
      ]
    },
    {
      "cell_type": "code",
      "source": [
        "sheet = wb['Third Sheet']\n",
        "\n"
      ],
      "metadata": {
        "id": "bBmYralLZkRd"
      },
      "execution_count": null,
      "outputs": []
    },
    {
      "cell_type": "markdown",
      "source": [
        "####Rows and Columns"
      ],
      "metadata": {
        "id": "r7a7SMMQxILT"
      }
    },
    {
      "cell_type": "code",
      "source": [
        "sheet.insert_cols(3)\n",
        "\n",
        "wb.save('/content/gdrive/My Drive/'\n",
        "                               + 'new_workbook.xlsx')"
      ],
      "metadata": {
        "id": "1jyNE8M9a1Vh"
      },
      "execution_count": null,
      "outputs": []
    },
    {
      "cell_type": "code",
      "source": [
        "sheet.insert_rows(3)\n",
        "wb.save('/content/gdrive/My Drive/'\n",
        "                               + 'new_workbook.xlsx')"
      ],
      "metadata": {
        "id": "anr0Tu4izcP7"
      },
      "execution_count": null,
      "outputs": []
    },
    {
      "cell_type": "code",
      "source": [
        "sheet.delete_cols(1,2)\n",
        "wb.save('/content/gdrive/My Drive/'\n",
        "                               + 'new_workbook.xlsx')"
      ],
      "metadata": {
        "id": "TdUCvou-z_hM"
      },
      "execution_count": null,
      "outputs": []
    },
    {
      "cell_type": "markdown",
      "source": [
        "##Use a Formula"
      ],
      "metadata": {
        "id": "PbUtOhQ403Wf"
      }
    },
    {
      "cell_type": "code",
      "source": [
        "\n",
        "# Import the necessary libraries\n",
        "from openpyxl import load_workbook\n",
        "from google.colab import drive\n",
        "from openpyxl.utils import FORMULAE\n",
        "\n",
        "# Mount Google Drive to access files\n",
        "drive.mount('/content/gdrive')\n",
        "\n",
        "# Load an existing Excel workbook from Google Drive\n",
        "wb = load_workbook(filename='/content/gdrive/My Drive/new_workbook.xlsx')\n",
        "sheet = wb['New Active Workbook']\n",
        "\n",
        "# Uncomment and set a formula in cell \"A1\" (e.g., \"=SUM(2, 3)\")\n",
        "sheet[\"A1\"] = \"=SUM(2, 3)\"\n",
        "\n",
        "# Save the modified workbook back to Google Drive\n",
        "wb.save('/content/gdrive/My Drive/new_workbook.xlsx')\n",
        "\n",
        "# Check if the \"DEC2HEX\" formula is available in the FORMULAE constants\n",
        "\"DEC2HEX\" in FORMULAE\n"
      ],
      "metadata": {
        "colab": {
          "base_uri": "https://localhost:8080/"
        },
        "id": "JgGCNBxV09yO",
        "outputId": "24d3582d-7ed3-4756-981f-523ef7de1e3a"
      },
      "execution_count": null,
      "outputs": [
        {
          "output_type": "stream",
          "name": "stdout",
          "text": [
            "Drive already mounted at /content/gdrive; to attempt to forcibly remount, call drive.mount(\"/content/gdrive\", force_remount=True).\n"
          ]
        },
        {
          "output_type": "execute_result",
          "data": {
            "text/plain": [
              "True"
            ]
          },
          "metadata": {},
          "execution_count": 3
        }
      ]
    },
    {
      "cell_type": "markdown",
      "source": [
        "###Use Dates"
      ],
      "metadata": {
        "id": "F7vIAAOq3x1R"
      }
    },
    {
      "cell_type": "code",
      "source": [
        "from openpyxl import load_workbook\n",
        "from google.colab import drive\n",
        "drive.mount('/content/gdrive')\n",
        "import datetime\n",
        "\n",
        "wb = load_workbook(filename = '/content/gdrive/My Drive/'\n",
        "                               'new_workbook.xlsx')\n",
        "sheet = wb['New Active Workbook']\n",
        "\n",
        "sheet[\"B1\"] = datetime.datetime(2021, 1, 1, 10, 30, 20)\n",
        "\n",
        "\n",
        "wb.save('/content/gdrive/My Drive/'\n",
        "            +'new_workbook.xlsx')\n"
      ],
      "metadata": {
        "colab": {
          "base_uri": "https://localhost:8080/"
        },
        "outputId": "51c9f8e9-6cd3-447b-a928-dbfdbe823663",
        "id": "zxS8zZouE9He"
      },
      "execution_count": null,
      "outputs": [
        {
          "output_type": "stream",
          "name": "stdout",
          "text": [
            "Drive already mounted at /content/gdrive; to attempt to forcibly remount, call drive.mount(\"/content/gdrive\", force_remount=True).\n"
          ]
        }
      ]
    },
    {
      "cell_type": "code",
      "source": [
        "sheet[\"B1\"].number_format"
      ],
      "metadata": {
        "id": "-4oYVhZoG6_4",
        "colab": {
          "base_uri": "https://localhost:8080/",
          "height": 37
        },
        "outputId": "94f22a91-ddbe-45e1-de8b-d6290bede133"
      },
      "execution_count": null,
      "outputs": [
        {
          "output_type": "execute_result",
          "data": {
            "text/plain": [
              "'yyyy-mm-dd h:mm:ss'"
            ],
            "application/vnd.google.colaboratory.intrinsic+json": {
              "type": "string"
            }
          },
          "metadata": {},
          "execution_count": 15
        }
      ]
    },
    {
      "cell_type": "markdown",
      "source": [
        "Merge and Unmerge Cells"
      ],
      "metadata": {
        "id": "pwyTRGSc1XZc"
      }
    },
    {
      "cell_type": "code",
      "source": [
        "\n",
        "from openpyxl import load_workbook\n",
        "from google.colab import drive\n",
        "drive.mount('/content/gdrive')\n",
        "\n",
        "wb = load_workbook(filename =\n",
        "                   '/content/gdrive/My Drive/'\n",
        "                   + 'new_workbook.xlsx')\n",
        "\n",
        "sheet = wb['New Active Workbook']\n",
        "\n",
        "sheet.merge_cells(\"c2:e3\")\n",
        "sheet.unmerge_cells(\"C2:e3\")\n",
        "\n",
        "sheet.merge_cells(start_row=4, start_column=2, end_row=6, end_column=5)\n",
        "\n",
        "wb.save('/content/gdrive/My Drive/'\n",
        "            +'new_workbook.xlsx')\n"
      ],
      "metadata": {
        "id": "Pn8wjMsJ1nXy",
        "colab": {
          "base_uri": "https://localhost:8080/"
        },
        "outputId": "3469c30e-12ae-43ba-88bc-e922c37c9298"
      },
      "execution_count": null,
      "outputs": [
        {
          "output_type": "stream",
          "name": "stdout",
          "text": [
            "Drive already mounted at /content/gdrive; to attempt to forcibly remount, call drive.mount(\"/content/gdrive\", force_remount=True).\n"
          ]
        }
      ]
    },
    {
      "cell_type": "markdown",
      "source": [
        "Fold a Range"
      ],
      "metadata": {
        "id": "TbZZtBRtRBCw"
      }
    },
    {
      "cell_type": "code",
      "source": [
        "sheet = wb['New Active Workbook']\n",
        "\n",
        "sheet.row_dimensions.group(2, 4, hidden=True)\n",
        "\n",
        "sheet.column_dimensions.group('B',\"E\", hidden = True)\n",
        "wb.save('/content/gdrive/My Drive/'\n",
        "            +'new_workbook.xlsx')\n"
      ],
      "metadata": {
        "id": "unkWEZYjRHri"
      },
      "execution_count": null,
      "outputs": []
    },
    {
      "cell_type": "markdown",
      "source": [
        "Make a New Sheet"
      ],
      "metadata": {
        "id": "AvVL0RzFURP1"
      }
    },
    {
      "cell_type": "code",
      "source": [
        "from openpyxl import load_workbook\n",
        "from google.colab import drive\n",
        "drive.mount('/content/gdrive')\n",
        "\n",
        "wb = load_workbook('/content/gdrive/My Drive/'\n",
        "                  + 'customer_information.xlsx')\n",
        "wb.create_sheet(\"My New Sheet\")\n",
        "\n",
        "wb.save('/content/gdrive/My Drive/'\n",
        "                  +'customer_information.xlsx')\n",
        "\n"
      ],
      "metadata": {
        "colab": {
          "base_uri": "https://localhost:8080/"
        },
        "id": "Rmdmm88OUVKj",
        "outputId": "8c3b1cd9-1bca-4790-eaf4-2ee0a347abb5"
      },
      "execution_count": null,
      "outputs": [
        {
          "output_type": "stream",
          "name": "stdout",
          "text": [
            "Drive already mounted at /content/gdrive; to attempt to forcibly remount, call drive.mount(\"/content/gdrive\", force_remount=True).\n"
          ]
        },
        {
          "output_type": "stream",
          "name": "stderr",
          "text": [
            "/usr/local/lib/python3.10/dist-packages/openpyxl/worksheet/_reader.py:329: UserWarning: Web Extension extension is not supported and will be removed\n",
            "  warn(msg)\n"
          ]
        }
      ]
    },
    {
      "cell_type": "markdown",
      "source": [
        "Copy Data to a Sheet"
      ],
      "metadata": {
        "id": "9t562zv-aQ_F"
      }
    },
    {
      "cell_type": "code",
      "source": [
        "from openpyxl import load_workbook\n",
        "\n",
        "\n",
        "wb = load_workbook('/content/gdrive/My Drive/'\n",
        "                  + 'customer_information.xlsx')\n",
        "original_sheet = wb.get_sheet_by_name('Customers')\n",
        "\n",
        "copy_sheet = wb.copy_worksheet(original_sheet)\n",
        "wb.save('/content/gdrive/My Drive/'\n",
        "                  +'customer_information.xlsx')"
      ],
      "metadata": {
        "id": "by8qdnktaWOm"
      },
      "execution_count": null,
      "outputs": []
    },
    {
      "cell_type": "markdown",
      "source": [
        "Remove a Sheet"
      ],
      "metadata": {
        "id": "HDVYQz6Wbm_8"
      }
    },
    {
      "cell_type": "code",
      "source": [
        "from openpyxl import load_workbook\n",
        "\n",
        "\n",
        "\n",
        "wb = load_workbook('/content/gdrive/My Drive/'\n",
        "                  + 'customer_information.xlsx')\n",
        "\n",
        "\n",
        "sheet_to_remove = wb.get_sheet_by_name('My New Sheet')\n",
        "wb.save('/content/gdrive/My Drive/'\n",
        "                  +'customer_information.xlsx')"
      ],
      "metadata": {
        "colab": {
          "base_uri": "https://localhost:8080/"
        },
        "id": "PwyZee-9bpNO",
        "outputId": "e94a78ef-7670-480b-9a7d-9af25c28c13f"
      },
      "execution_count": null,
      "outputs": [
        {
          "output_type": "stream",
          "name": "stderr",
          "text": [
            "<ipython-input-20-2ca172abb724>:8: DeprecationWarning: Call to deprecated function get_sheet_by_name (Use wb[sheetname]).\n",
            "  sheet_to_remove = wb.get_sheet_by_name('My New Sheet')\n"
          ]
        }
      ]
    },
    {
      "cell_type": "markdown",
      "source": [
        "#Build a Table:\n",
        "\n",
        "---\n",
        "\n"
      ],
      "metadata": {
        "id": "pg_oOyScdMSp"
      }
    },
    {
      "cell_type": "code",
      "source": [
        "from openpyxl import Workbook\n",
        "from openpyxl.worksheet.table import Table\n",
        "\n",
        "wb = Workbook()\n",
        "destination_filename = 'table_workbook.xlsx'\n",
        "sheet = wb.active\n",
        "sheet.title = \"Table Worksheet\"\n",
        "\n",
        "data = [\n",
        "        ['Leopard', 9000, 400, 4],\n",
        "        ['Tabby Cat', 90, 20, 4],\n",
        "        ['Wolf', 5000, 200, 4],\n",
        "        ['Beagle', 300, 90, 4],\n",
        "]\n",
        "sheet.append([\"Animal\", \"Ate\", \"Weight\", \"Paws\"])\n",
        "\n",
        "for row in data:\n",
        "  sheet.append(row)\n",
        "\n",
        "TableObject = Table(displayName=\"Animals_Table\",\n",
        "                     ref=\"A1:D4\")\n",
        "\n",
        "sheet.add_table(TableObject)\n",
        "\n",
        "\n",
        "\n",
        "wb.save('/content/gdrive/My Drive/'\n",
        "                  +'destination_filename.xlsx')"
      ],
      "metadata": {
        "id": "xv2SC01ueRfl"
      },
      "execution_count": null,
      "outputs": []
    },
    {
      "cell_type": "code",
      "source": [],
      "metadata": {
        "id": "jxuiTNFve2C5"
      },
      "execution_count": null,
      "outputs": []
    }
  ]
}